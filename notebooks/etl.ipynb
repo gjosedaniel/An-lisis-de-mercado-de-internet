{
 "cells": [
  {
   "cell_type": "code",
   "execution_count": 1,
   "id": "6003e0c0",
   "metadata": {},
   "outputs": [],
   "source": [
    "import os\n",
    "import pandas as pd"
   ]
  },
  {
   "cell_type": "code",
   "execution_count": 2,
   "id": "9778d04a",
   "metadata": {},
   "outputs": [],
   "source": [
    "# Especificar la ruta del archivo Excel\n",
    "ruta_excel = '../data/Internet.xlsx'\n",
    "\n",
    "# Función para convertir cada hoja del Excel a CSV sin modificar\n",
    "def convertir_excel_a_csv(ruta_excel):\n",
    "    hojas = pd.ExcelFile(ruta_excel)\n",
    "    directorio = os.path.dirname(ruta_excel)\n",
    "\n",
    "    # Recorrer cada hoja del Excel\n",
    "    for hoja in hojas.sheet_names:\n",
    "        dataframe = hojas.parse(hoja)\n",
    "        ruta_csv = os.path.join(directorio, f\"{hoja}.csv\")\n",
    "\n",
    "        # Guardar la hoja como CSV\n",
    "        dataframe.to_csv(ruta_csv, index=False, encoding='utf-8')\n",
    "        print(f\"Hoja convertida a CSV sin modificar: {ruta_csv}\")\n"
   ]
  },
  {
   "cell_type": "code",
   "execution_count": 3,
   "id": "0324b979",
   "metadata": {},
   "outputs": [],
   "source": [
    "# Función para limpiar los datos y sobrescribir los CSV iniciales\n",
    "def limpiar_y_guardar_datos(ruta_excel):\n",
    "    hojas = pd.ExcelFile(ruta_excel)\n",
    "    directorio = os.path.dirname(ruta_excel)\n",
    "\n",
    "    # Recorrer cada hoja del Excel\n",
    "    for hoja in hojas.sheet_names:\n",
    "        dataframe = hojas.parse(hoja)\n",
    "\n",
    "        # Procesamiento específico (limpieza de datos)\n",
    "        if 'Año' in dataframe.columns:\n",
    "            dataframe['Año'] = (\n",
    "                dataframe['Año']\n",
    "                .astype(str)\n",
    "                .str.replace('*', '', regex=False)\n",
    "                .str.strip()\n",
    "            )\n",
    "        if 'Trimestre' in dataframe.columns:\n",
    "            dataframe['Trimestre'] = (\n",
    "                dataframe['Trimestre']\n",
    "                .astype(str)\n",
    "                .str.replace('*', '', regex=False)\n",
    "                .str.strip()\n",
    "            )\n",
    "        # Eliminar filas con más del 80% de columnas nulas\n",
    "        threshold = len(dataframe.columns) * 0.8\n",
    "        dataframe = dataframe.dropna(thresh=threshold)\n",
    "\n",
    "        # Convertir la columna 'Año' a enteros si no tiene valores NaN\n",
    "        if 'Año' in dataframe.columns:\n",
    "            dataframe.loc[:, 'Año'] = dataframe['Año'].dropna().astype(int)\n",
    "\n",
    "        # Procesar DataFrame según nombres específicos\n",
    "        if hoja == 'dial_BAf':\n",
    "            dataframe = dataframe[dataframe['Trimestre'] == 1]\n",
    "\n",
    "        # Sobrescribir el archivo CSV inicial con los datos procesados\n",
    "        ruta_csv = os.path.join(directorio, f\"{hoja}.csv\")\n",
    "        dataframe.to_csv(ruta_csv, index=False, encoding='utf-8')\n",
    "        print(f\"Datos procesados y sobrescritos en: {ruta_csv}\")"
   ]
  },
  {
   "cell_type": "code",
   "execution_count": 4,
   "id": "ce6f08e2",
   "metadata": {},
   "outputs": [
    {
     "name": "stdout",
     "output_type": "stream",
     "text": [
      "Hoja convertida a CSV sin modificar: ../data\\Acc_vel_loc_sinrangos.csv\n",
      "Hoja convertida a CSV sin modificar: ../data\\Velocidad_sin_Rangos.csv\n",
      "Hoja convertida a CSV sin modificar: ../data\\Accesos_tecnologia_localidad.csv\n",
      "Hoja convertida a CSV sin modificar: ../data\\Velocidad % por prov.csv\n",
      "Hoja convertida a CSV sin modificar: ../data\\Totales VMD.csv\n",
      "Hoja convertida a CSV sin modificar: ../data\\Totales Accesos Por Tecnología.csv\n",
      "Hoja convertida a CSV sin modificar: ../data\\Accesos Por Tecnología.csv\n",
      "Hoja convertida a CSV sin modificar: ../data\\Penetración-poblacion.csv\n",
      "Hoja convertida a CSV sin modificar: ../data\\Penetracion-hogares.csv\n",
      "Hoja convertida a CSV sin modificar: ../data\\Penetracion-totales.csv\n",
      "Hoja convertida a CSV sin modificar: ../data\\Totales Accesos por rango.csv\n",
      "Hoja convertida a CSV sin modificar: ../data\\Accesos por rangos.csv\n",
      "Hoja convertida a CSV sin modificar: ../data\\Dial-BAf.csv\n",
      "Hoja convertida a CSV sin modificar: ../data\\Totales Dial-BAf.csv\n",
      "Hoja convertida a CSV sin modificar: ../data\\Ingresos .csv\n"
     ]
    }
   ],
   "source": [
    "# Paso 1: Convertir Excel a CSV sin modificaciones\n",
    "convertir_excel_a_csv(ruta_excel)\n"
   ]
  },
  {
   "cell_type": "code",
   "execution_count": 5,
   "id": "7ef27cf2",
   "metadata": {},
   "outputs": [
    {
     "name": "stdout",
     "output_type": "stream",
     "text": [
      "Datos procesados y sobrescritos en: ../data\\Acc_vel_loc_sinrangos.csv\n",
      "Datos procesados y sobrescritos en: ../data\\Velocidad_sin_Rangos.csv\n",
      "Datos procesados y sobrescritos en: ../data\\Accesos_tecnologia_localidad.csv\n",
      "Datos procesados y sobrescritos en: ../data\\Velocidad % por prov.csv\n",
      "Datos procesados y sobrescritos en: ../data\\Totales VMD.csv\n",
      "Datos procesados y sobrescritos en: ../data\\Totales Accesos Por Tecnología.csv\n",
      "Datos procesados y sobrescritos en: ../data\\Accesos Por Tecnología.csv\n",
      "Datos procesados y sobrescritos en: ../data\\Penetración-poblacion.csv\n",
      "Datos procesados y sobrescritos en: ../data\\Penetracion-hogares.csv\n",
      "Datos procesados y sobrescritos en: ../data\\Penetracion-totales.csv\n",
      "Datos procesados y sobrescritos en: ../data\\Totales Accesos por rango.csv\n",
      "Datos procesados y sobrescritos en: ../data\\Accesos por rangos.csv\n",
      "Datos procesados y sobrescritos en: ../data\\Dial-BAf.csv\n",
      "Datos procesados y sobrescritos en: ../data\\Totales Dial-BAf.csv\n",
      "Datos procesados y sobrescritos en: ../data\\Ingresos .csv\n"
     ]
    }
   ],
   "source": [
    "# Paso 2: Limpiar datos y sobrescribir los CSV iniciales\n",
    "limpiar_y_guardar_datos(ruta_excel)"
   ]
  }
 ],
 "metadata": {
  "kernelspec": {
   "display_name": "Proyecto_2",
   "language": "python",
   "name": "python3"
  },
  "language_info": {
   "codemirror_mode": {
    "name": "ipython",
    "version": 3
   },
   "file_extension": ".py",
   "mimetype": "text/x-python",
   "name": "python",
   "nbconvert_exporter": "python",
   "pygments_lexer": "ipython3",
   "version": "3.11.9"
  }
 },
 "nbformat": 4,
 "nbformat_minor": 5
}
